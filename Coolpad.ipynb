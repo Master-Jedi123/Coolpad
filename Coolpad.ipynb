{
  "cells": [
    {
      "cell_type": "markdown",
      "metadata": {
        "id": "view-in-github",
        "colab_type": "text"
      },
      "source": [
        "<a href=\"https://colab.research.google.com/github/Master-Jedi123/Coolpad/blob/main/Coolpad.ipynb\" target=\"_parent\"><img src=\"https://colab.research.google.com/assets/colab-badge.svg\" alt=\"Open In Colab\"/></a>"
      ]
    },
    {
      "cell_type": "code",
      "source": [
        "!pip install CTk\n",
        "!pip install Customtkinter\n",
        "!pip install CTkMenuBar\n",
        "!pip install CTkColorPicker"
      ],
      "metadata": {
        "colab": {
          "base_uri": "https://localhost:8080/"
        },
        "id": "Pw9VNmv-dlco",
        "outputId": "b0b66922-89fa-4b39-e8d9-bd5f5dcba09e"
      },
      "id": "Pw9VNmv-dlco",
      "execution_count": 6,
      "outputs": [
        {
          "output_type": "stream",
          "name": "stdout",
          "text": [
            "Requirement already satisfied: CTk in /usr/local/lib/python3.10/dist-packages (0.1)\n",
            "Requirement already satisfied: Customtkinter in /usr/local/lib/python3.10/dist-packages (5.2.2)\n",
            "Requirement already satisfied: darkdetect in /usr/local/lib/python3.10/dist-packages (from Customtkinter) (0.8.0)\n",
            "Requirement already satisfied: packaging in /usr/local/lib/python3.10/dist-packages (from Customtkinter) (24.1)\n",
            "Collecting CTkMenuBar\n",
            "  Downloading CTkMenuBar-0.8-py3-none-any.whl.metadata (4.7 kB)\n",
            "Requirement already satisfied: customtkinter in /usr/local/lib/python3.10/dist-packages (from CTkMenuBar) (5.2.2)\n",
            "Requirement already satisfied: darkdetect in /usr/local/lib/python3.10/dist-packages (from customtkinter->CTkMenuBar) (0.8.0)\n",
            "Requirement already satisfied: packaging in /usr/local/lib/python3.10/dist-packages (from customtkinter->CTkMenuBar) (24.1)\n",
            "Downloading CTkMenuBar-0.8-py3-none-any.whl (11 kB)\n",
            "Installing collected packages: CTkMenuBar\n",
            "Successfully installed CTkMenuBar-0.8\n",
            "Collecting CTkColorPicker\n",
            "  Downloading CTkColorPicker-0.9.0-py3-none-any.whl.metadata (3.8 kB)\n",
            "Requirement already satisfied: customtkinter in /usr/local/lib/python3.10/dist-packages (from CTkColorPicker) (5.2.2)\n",
            "Requirement already satisfied: pillow in /usr/local/lib/python3.10/dist-packages (from CTkColorPicker) (9.4.0)\n",
            "Requirement already satisfied: darkdetect in /usr/local/lib/python3.10/dist-packages (from customtkinter->CTkColorPicker) (0.8.0)\n",
            "Requirement already satisfied: packaging in /usr/local/lib/python3.10/dist-packages (from customtkinter->CTkColorPicker) (24.1)\n",
            "Downloading CTkColorPicker-0.9.0-py3-none-any.whl (123 kB)\n",
            "\u001b[2K   \u001b[90m━━━━━━━━━━━━━━━━━━━━━━━━━━━━━━━━━━━━━━━━\u001b[0m \u001b[32m123.0/123.0 kB\u001b[0m \u001b[31m2.7 MB/s\u001b[0m eta \u001b[36m0:00:00\u001b[0m\n",
            "\u001b[?25hInstalling collected packages: CTkColorPicker\n",
            "Successfully installed CTkColorPicker-0.9.0\n"
          ]
        }
      ]
    },
    {
      "cell_type": "code",
      "execution_count": 5,
      "id": "546ed3a1",
      "metadata": {
        "colab": {
          "base_uri": "https://localhost:8080/",
          "height": 383
        },
        "id": "546ed3a1",
        "outputId": "fbcd1641-c483-4ec7-de15-64b7786ccdf8"
      },
      "outputs": [
        {
          "output_type": "error",
          "ename": "ModuleNotFoundError",
          "evalue": "No module named 'CTkMenuBar'",
          "traceback": [
            "\u001b[0;31m---------------------------------------------------------------------------\u001b[0m",
            "\u001b[0;31mModuleNotFoundError\u001b[0m                       Traceback (most recent call last)",
            "\u001b[0;32m<ipython-input-5-fe4eb596f682>\u001b[0m in \u001b[0;36m<cell line: 3>\u001b[0;34m()\u001b[0m\n\u001b[1;32m      1\u001b[0m \u001b[0;32mfrom\u001b[0m \u001b[0mtkinter\u001b[0m \u001b[0;32mimport\u001b[0m \u001b[0;34m*\u001b[0m\u001b[0;34m\u001b[0m\u001b[0;34m\u001b[0m\u001b[0m\n\u001b[1;32m      2\u001b[0m \u001b[0;32mimport\u001b[0m \u001b[0mcustomtkinter\u001b[0m\u001b[0;34m\u001b[0m\u001b[0;34m\u001b[0m\u001b[0m\n\u001b[0;32m----> 3\u001b[0;31m \u001b[0;32mfrom\u001b[0m \u001b[0mCTkMenuBar\u001b[0m \u001b[0;32mimport\u001b[0m \u001b[0;34m*\u001b[0m\u001b[0;34m\u001b[0m\u001b[0;34m\u001b[0m\u001b[0m\n\u001b[0m\u001b[1;32m      4\u001b[0m \u001b[0;32mfrom\u001b[0m \u001b[0mtkinter\u001b[0m \u001b[0;32mimport\u001b[0m \u001b[0mfiledialog\u001b[0m\u001b[0;34m\u001b[0m\u001b[0;34m\u001b[0m\u001b[0m\n\u001b[1;32m      5\u001b[0m \u001b[0;32mimport\u001b[0m \u001b[0mtkinter\u001b[0m\u001b[0;34m.\u001b[0m\u001b[0mttk\u001b[0m \u001b[0;32mas\u001b[0m \u001b[0mttk\u001b[0m\u001b[0;34m\u001b[0m\u001b[0;34m\u001b[0m\u001b[0m\n",
            "\u001b[0;31mModuleNotFoundError\u001b[0m: No module named 'CTkMenuBar'",
            "",
            "\u001b[0;31m---------------------------------------------------------------------------\u001b[0;32m\nNOTE: If your import is failing due to a missing package, you can\nmanually install dependencies using either !pip or !apt.\n\nTo view examples of installing some common dependencies, click the\n\"Open Examples\" button below.\n\u001b[0;31m---------------------------------------------------------------------------\u001b[0m\n"
          ],
          "errorDetails": {
            "actions": [
              {
                "action": "open_url",
                "actionText": "Open Examples",
                "url": "/notebooks/snippets/importing_libraries.ipynb"
              }
            ]
          }
        }
      ],
      "source": [
        "from tkinter import *\n",
        "import customtkinter\n",
        "from CTkMenuBar import *\n",
        "from tkinter import filedialog\n",
        "import tkinter.ttk as ttk\n",
        "import tkinter as tk\n",
        "from CTkColorPicker import *"
      ]
    },
    {
      "cell_type": "code",
      "execution_count": null,
      "id": "e458ee24",
      "metadata": {
        "id": "e458ee24"
      },
      "outputs": [],
      "source": []
    },
    {
      "cell_type": "code",
      "execution_count": null,
      "id": "53171b08",
      "metadata": {
        "id": "53171b08"
      },
      "outputs": [],
      "source": [
        "root = customtkinter.CTk()\n",
        "root.geometry(\"800x600\")\n",
        "root.title(\"Coolpad\")\n",
        "root.mainloop"
      ]
    },
    {
      "cell_type": "code",
      "execution_count": null,
      "id": "e1c104ac",
      "metadata": {
        "id": "e1c104ac"
      },
      "outputs": [],
      "source": []
    },
    {
      "cell_type": "code",
      "execution_count": null,
      "id": "26d18e5d",
      "metadata": {
        "id": "26d18e5d"
      },
      "outputs": [],
      "source": [
        "global open_status_name\n",
        "open_status_name = False"
      ]
    },
    {
      "cell_type": "code",
      "execution_count": null,
      "id": "22bc83bb",
      "metadata": {
        "lines_to_next_cell": 2,
        "id": "22bc83bb"
      },
      "outputs": [],
      "source": [
        "global selected\n",
        "selected = False"
      ]
    },
    {
      "cell_type": "code",
      "execution_count": null,
      "id": "4a51c921",
      "metadata": {
        "lines_to_next_cell": 1,
        "id": "4a51c921"
      },
      "outputs": [],
      "source": [
        "customtkinter.set_appearance_mode(\"system\")  # Modes: system (default), light, dark\n",
        "customtkinter.set_default_color_theme(\"blue\")  # Themes: blue (default), dark-blue, green"
      ]
    },
    {
      "cell_type": "code",
      "execution_count": null,
      "id": "68f0d82b",
      "metadata": {
        "lines_to_next_cell": 1,
        "id": "68f0d82b"
      },
      "outputs": [],
      "source": [
        "#New File\n",
        "def new_file():\n",
        "    #Delete previous text\n",
        "    entry.delete(\"1.0\", END)\n",
        "    #Update status\n",
        "    root.title('New File - CoolPad')"
      ]
    },
    {
      "cell_type": "code",
      "execution_count": null,
      "id": "d6bb0ab4",
      "metadata": {
        "lines_to_next_cell": 1,
        "id": "d6bb0ab4"
      },
      "outputs": [],
      "source": [
        "#Open File\n",
        "def open_file():\n",
        "    #Delete previous text\n",
        "    entry.delete(\"1.0\", END)\n",
        "    #Get filename\n",
        "    text_file = filedialog.askopenfilename(initialdir=\"C:/downloads/\", title=\"Open File\", filetypes=((\"Text FIles\", \"*.txt\"), (\"HTML Files\", \"*.html\"), (\"Python Files\", \"*.py\"), (\"All Files\", \"*.*\")))\n",
        "\n",
        "    if text_file:\n",
        "        global open_status_name\n",
        "        open_status_name = text_file\n",
        "\n",
        "    name = text_file\n",
        "    name = name.replace(\"C:/downloads/\", \"\")\n",
        "    root.title(f'{name} - CoolPad')\n",
        "\n",
        "    text_file = open(text_file, 'r')\n",
        "    stuff = text_file.read()\n",
        "\n",
        "    entry.insert(END, stuff)\n",
        "    text_file.close()"
      ]
    },
    {
      "cell_type": "code",
      "execution_count": null,
      "id": "2c4c9b9c",
      "metadata": {
        "lines_to_next_cell": 1,
        "id": "2c4c9b9c"
      },
      "outputs": [],
      "source": [
        "#Save as file\n",
        "def save_as_file():\n",
        "    text_file = filedialog.asksaveasfilename(defaultextension=\".*\", initialdir=\"C:/downloads/\", title=\"Save File\", filetypes=((\"Text Files\", \"*.txt\"), (\"HTML Files\", \"*.html\"), (\"Python Files\", \"*.py\"), (\"All Files\", \"*.*\")))\n",
        "    if text_file:\n",
        "        name = text_file\n",
        "        name = name.replace(\"C:/downloads/\", \"\")\n",
        "        root.title(f'{name} - CoolPad')\n",
        "        #Save the file\n",
        "        text_file = open(text_file, \"w\")\n",
        "        text_file.write(entry.get(1.0, END))\n",
        "        text_file.close"
      ]
    },
    {
      "cell_type": "code",
      "execution_count": null,
      "id": "3ed86982",
      "metadata": {
        "lines_to_next_cell": 1,
        "id": "3ed86982"
      },
      "outputs": [],
      "source": [
        "def cut_text():\n",
        "    global selected\n",
        "    if entry.selection_get():\n",
        "        selected = entry.selection_get()\n",
        "        entry.delete(\"sel.first\", \"sel.last\")"
      ]
    },
    {
      "cell_type": "code",
      "execution_count": null,
      "id": "1d581782",
      "metadata": {
        "id": "1d581782"
      },
      "outputs": [],
      "source": [
        "def copy_text():\n",
        "    global selected\n",
        "    if entry.selection_get():\n",
        "        selected = entry.selection_get()"
      ]
    },
    {
      "cell_type": "code",
      "execution_count": null,
      "id": "cf16217a",
      "metadata": {
        "lines_to_next_cell": 1,
        "id": "cf16217a"
      },
      "outputs": [],
      "source": [
        "def paste_text():\n",
        "    if selected:\n",
        "        position = entry.index(INSERT)\n",
        "        entry.insert(position, selected)"
      ]
    },
    {
      "cell_type": "code",
      "execution_count": null,
      "id": "6192560f",
      "metadata": {
        "lines_to_next_cell": 1,
        "id": "6192560f"
      },
      "outputs": [],
      "source": [
        "def change_theme_to_light():\n",
        "    customtkinter.set_appearance_mode(\"Light\")\n",
        "    print(\"Theme set to light\")"
      ]
    },
    {
      "cell_type": "code",
      "execution_count": null,
      "id": "c3b58aa9",
      "metadata": {
        "lines_to_next_cell": 1,
        "id": "c3b58aa9"
      },
      "outputs": [],
      "source": [
        "def change_theme_to_dark():\n",
        "    customtkinter.set_appearance_mode(\"Dark\")\n",
        "    print(\"Theme set to dark\")"
      ]
    },
    {
      "cell_type": "code",
      "execution_count": null,
      "id": "9edd1ce7",
      "metadata": {
        "lines_to_next_cell": 1,
        "id": "9edd1ce7"
      },
      "outputs": [],
      "source": [
        "def system_theme():\n",
        "    customtkinter.set_appearance_mode(\"System\")\n",
        "    print(\"Theme set to system\")"
      ]
    },
    {
      "cell_type": "code",
      "execution_count": null,
      "id": "bc082df7",
      "metadata": {
        "lines_to_next_cell": 2,
        "id": "bc082df7"
      },
      "outputs": [],
      "source": [
        "menu = CTkMenuBar(root)\n",
        "button_1 = menu.add_cascade(\"File\")\n",
        "button_2 = menu.add_cascade(\"Edit\")\n",
        "button_3 = menu.add_cascade(\"Settings\")"
      ]
    },
    {
      "cell_type": "code",
      "execution_count": null,
      "id": "0b2e744f",
      "metadata": {
        "id": "0b2e744f"
      },
      "outputs": [],
      "source": [
        "dropdown1 = CustomDropdownMenu(widget=button_1, corner_radius=0)\n",
        "dropdown1.add_option(option=\"Open\", command=open_file, corner_radius=0)\n",
        "dropdown1.add_option(option=\"New File\", command=new_file, corner_radius=0)\n",
        "dropdown1.add_separator()\n",
        "dropdown1.add_option(option=\"Save As\", command=save_as_file, corner_radius=0)"
      ]
    },
    {
      "cell_type": "code",
      "execution_count": null,
      "id": "23033aba",
      "metadata": {
        "id": "23033aba"
      },
      "outputs": [],
      "source": [
        "dropdown1.add_separator()"
      ]
    },
    {
      "cell_type": "code",
      "execution_count": null,
      "id": "42aba3e5",
      "metadata": {
        "id": "42aba3e5"
      },
      "outputs": [],
      "source": [
        "dropdown2 = CustomDropdownMenu(widget=button_2, corner_radius=0)\n",
        "dropdown2.add_option(option=\"Cut\", command=cut_text)\n",
        "dropdown2.add_option(option=\"Copy\", command=copy_text)\n",
        "dropdown2.add_option(option=\"Paste\", command=paste_text)\n",
        "dropdown2.add_separator()\n",
        "dropdown2.add_option(option=\"Undo\")\n",
        "dropdown2.add_option(option=\"Redo\", command=\"redo_text\")"
      ]
    },
    {
      "cell_type": "code",
      "execution_count": null,
      "id": "ab65221c",
      "metadata": {
        "id": "ab65221c"
      },
      "outputs": [],
      "source": [
        "dropdown3 = CustomDropdownMenu(widget=button_3, corner_radius=0)\n",
        "sub_menu2 = dropdown3.add_submenu(\"Theme\")\n",
        "sub_menu2.add_option(option=\"Light Mode\", command=change_theme_to_light)\n",
        "sub_menu2.add_option(option=\"Dark Mode\", command=change_theme_to_dark)\n",
        "sub_menu2.add_option(option=\"System\", command=system_theme)"
      ]
    },
    {
      "cell_type": "code",
      "execution_count": null,
      "id": "c29199c2",
      "metadata": {
        "id": "c29199c2"
      },
      "outputs": [],
      "source": [
        "entry = customtkinter.CTkTextbox(root, width=10000, height=10000, corner_radius=0, font=('Arial', 18), activate_scrollbars=True)\n",
        "entry.pack()"
      ]
    },
    {
      "cell_type": "code",
      "execution_count": null,
      "id": "9422e7b2",
      "metadata": {
        "id": "9422e7b2"
      },
      "outputs": [],
      "source": [
        "scrollbar = customtkinter.CTkScrollbar(root, command=entry.yview, hover=True, width=5)\n",
        "scrollbar.pack()"
      ]
    },
    {
      "cell_type": "code",
      "execution_count": null,
      "id": "c1079c71",
      "metadata": {
        "id": "c1079c71"
      },
      "outputs": [],
      "source": [
        "root.mainloop()"
      ]
    }
  ],
  "metadata": {
    "jupytext": {
      "cell_metadata_filter": "-all",
      "main_language": "python",
      "notebook_metadata_filter": "-all"
    },
    "colab": {
      "provenance": [],
      "include_colab_link": true
    },
    "language_info": {
      "name": "python"
    },
    "kernelspec": {
      "name": "python3",
      "display_name": "Python 3"
    }
  },
  "nbformat": 4,
  "nbformat_minor": 5
}